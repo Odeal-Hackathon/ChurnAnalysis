{
 "cells": [
  {
   "cell_type": "markdown",
   "metadata": {},
   "source": [
    "### Install the required libraries"
   ]
  },
  {
   "cell_type": "code",
   "execution_count": null,
   "metadata": {},
   "outputs": [],
   "source": [
    "!pip install pandas fastparquet plotly"
   ]
  },
  {
   "cell_type": "markdown",
   "metadata": {},
   "source": [
    "### Read Data"
   ]
  },
  {
   "cell_type": "code",
   "execution_count": 1,
   "metadata": {},
   "outputs": [],
   "source": [
    "import pandas as pd\n",
    "\n",
    "df = pd.read_parquet(\"data/odeal_hackathon.parquet\", engine='fastparquet')"
   ]
  },
  {
   "cell_type": "markdown",
   "metadata": {},
   "source": [
    "### Function to calculate customer churn and transaction frequency from a DataFrame based on transaction history and a specified inactivity threshold"
   ]
  },
  {
   "cell_type": "code",
   "execution_count": 2,
   "metadata": {},
   "outputs": [],
   "source": [
    "def analyze_customer_churn(df, id_col='id', transaction_date_col='IslemTarih',\n",
    "                           transaction_id_col='IslemID', churn_days_threshold=90):\n",
    "    \"\"\"\n",
    "    Analyze customer churn from transaction data.\n",
    "\n",
    "    Parameters\n",
    "    ----------\n",
    "    df : pandas.DataFrame\n",
    "        A DataFrame containing the transaction data.\n",
    "    id_col : str, optional\n",
    "        The name of the column that contains the customer ID. Default is 'CustomerID'.\n",
    "    transaction_date_col : str, optional\n",
    "        The name of the column that contains the transaction date. Default is 'TransactionDate'.\n",
    "    transaction_id_col : str, optional\n",
    "        The name of the column that contains the transaction ID. Default is 'TransactionID'.\n",
    "    churn_days_threshold : int, optional\n",
    "        The number of days without transactions to consider a customer as churned. Default is 90.\n",
    "\n",
    "    Returns\n",
    "    -------\n",
    "    pandas.DataFrame\n",
    "        A DataFrame with churn analysis by customer, including churn status and transaction frequency.\n",
    "\n",
    "    Examples\n",
    "    --------\n",
    "    >>> df = pd.DataFrame({\n",
    "    ...     'CustomerID': [1, 1, 2, 2, 3],\n",
    "    ...     'TransactionDate': ['2021-01-01', '2021-01-02', '2021-01-02', '2021-02-01', '2021-03-01'],\n",
    "    ...     'TransactionID': [101, 102, 103, 104, 105]\n",
    "    ... })\n",
    "    >>> result = analyze_customer_churn(df)\n",
    "    >>> result\n",
    "    \"\"\"\n",
    "    df[transaction_date_col] = pd.to_datetime(df[transaction_date_col])\n",
    "\n",
    "    transaction_dates = df.groupby(id_col)[transaction_date_col].agg(['min', 'max'])\n",
    "    transaction_dates.columns = ['FirstTransactionDate', 'LastTransactionDate']\n",
    "\n",
    "    latest_date = df[transaction_date_col].max()\n",
    "    days_since_last_transaction = (latest_date - transaction_dates['LastTransactionDate']).dt.days\n",
    "\n",
    "    churn_status = days_since_last_transaction > churn_days_threshold\n",
    "\n",
    "    df['Month'] = df[transaction_date_col].dt.to_period('M')\n",
    "    transaction_freq = df.groupby([id_col, 'Month'])[transaction_id_col].count().groupby(level=0).mean()\n",
    "\n",
    "    churn_analysis = pd.concat([\n",
    "        transaction_dates,\n",
    "        days_since_last_transaction.rename('DaysSinceLastTransaction'),\n",
    "        churn_status.rename('Churn'),\n",
    "        transaction_freq.rename('TransactionFrequency')\n",
    "    ], axis=1).reset_index()\n",
    "\n",
    "    return churn_analysis"
   ]
  },
  {
   "cell_type": "markdown",
   "metadata": {},
   "source": [
    "### Show Result:"
   ]
  },
  {
   "cell_type": "code",
   "execution_count": 3,
   "metadata": {},
   "outputs": [
    {
     "data": {
      "text/html": [
       "<div>\n",
       "<style scoped>\n",
       "    .dataframe tbody tr th:only-of-type {\n",
       "        vertical-align: middle;\n",
       "    }\n",
       "\n",
       "    .dataframe tbody tr th {\n",
       "        vertical-align: top;\n",
       "    }\n",
       "\n",
       "    .dataframe thead th {\n",
       "        text-align: right;\n",
       "    }\n",
       "</style>\n",
       "<table border=\"1\" class=\"dataframe\">\n",
       "  <thead>\n",
       "    <tr style=\"text-align: right;\">\n",
       "      <th></th>\n",
       "      <th>id</th>\n",
       "      <th>FirstTransactionDate</th>\n",
       "      <th>LastTransactionDate</th>\n",
       "      <th>DaysSinceLastTransaction</th>\n",
       "      <th>Churn</th>\n",
       "      <th>TransactionFrequency</th>\n",
       "    </tr>\n",
       "  </thead>\n",
       "  <tbody>\n",
       "    <tr>\n",
       "      <th>0</th>\n",
       "      <td>301002470</td>\n",
       "      <td>2015-09-18 14:35:04</td>\n",
       "      <td>2023-10-26 10:47:00</td>\n",
       "      <td>0</td>\n",
       "      <td>False</td>\n",
       "      <td>442.714286</td>\n",
       "    </tr>\n",
       "    <tr>\n",
       "      <th>1</th>\n",
       "      <td>301002583</td>\n",
       "      <td>2014-09-25 10:08:52</td>\n",
       "      <td>2020-12-23 12:28:28</td>\n",
       "      <td>1037</td>\n",
       "      <td>True</td>\n",
       "      <td>9.533333</td>\n",
       "    </tr>\n",
       "    <tr>\n",
       "      <th>2</th>\n",
       "      <td>301003354</td>\n",
       "      <td>2022-11-21 18:05:00</td>\n",
       "      <td>2023-10-26 16:59:00</td>\n",
       "      <td>0</td>\n",
       "      <td>False</td>\n",
       "      <td>2551.333333</td>\n",
       "    </tr>\n",
       "    <tr>\n",
       "      <th>3</th>\n",
       "      <td>301006906</td>\n",
       "      <td>2016-01-29 11:00:43</td>\n",
       "      <td>2022-09-12 18:30:00</td>\n",
       "      <td>408</td>\n",
       "      <td>True</td>\n",
       "      <td>618.350649</td>\n",
       "    </tr>\n",
       "    <tr>\n",
       "      <th>4</th>\n",
       "      <td>301009366</td>\n",
       "      <td>2019-06-27 17:31:14</td>\n",
       "      <td>2022-09-19 18:01:00</td>\n",
       "      <td>401</td>\n",
       "      <td>True</td>\n",
       "      <td>478.225000</td>\n",
       "    </tr>\n",
       "    <tr>\n",
       "      <th>5</th>\n",
       "      <td>301009412</td>\n",
       "      <td>2016-08-26 11:00:35</td>\n",
       "      <td>2023-10-03 17:56:28</td>\n",
       "      <td>22</td>\n",
       "      <td>False</td>\n",
       "      <td>1.333333</td>\n",
       "    </tr>\n",
       "    <tr>\n",
       "      <th>6</th>\n",
       "      <td>301009682</td>\n",
       "      <td>2016-05-19 10:29:01</td>\n",
       "      <td>2023-10-26 16:39:00</td>\n",
       "      <td>0</td>\n",
       "      <td>False</td>\n",
       "      <td>176.011765</td>\n",
       "    </tr>\n",
       "    <tr>\n",
       "      <th>7</th>\n",
       "      <td>301010389</td>\n",
       "      <td>2016-06-15 15:12:25</td>\n",
       "      <td>2020-05-10 11:09:14</td>\n",
       "      <td>1264</td>\n",
       "      <td>True</td>\n",
       "      <td>510.424242</td>\n",
       "    </tr>\n",
       "    <tr>\n",
       "      <th>8</th>\n",
       "      <td>301012873</td>\n",
       "      <td>2018-12-07 12:52:00</td>\n",
       "      <td>2023-10-26 15:06:00</td>\n",
       "      <td>0</td>\n",
       "      <td>False</td>\n",
       "      <td>616.800000</td>\n",
       "    </tr>\n",
       "    <tr>\n",
       "      <th>9</th>\n",
       "      <td>301014561</td>\n",
       "      <td>2017-08-10 14:22:03</td>\n",
       "      <td>2023-10-26 16:55:00</td>\n",
       "      <td>0</td>\n",
       "      <td>False</td>\n",
       "      <td>1061.166667</td>\n",
       "    </tr>\n",
       "    <tr>\n",
       "      <th>10</th>\n",
       "      <td>301015331</td>\n",
       "      <td>2017-02-09 11:21:52</td>\n",
       "      <td>2023-10-26 13:45:18</td>\n",
       "      <td>0</td>\n",
       "      <td>False</td>\n",
       "      <td>314.679012</td>\n",
       "    </tr>\n",
       "    <tr>\n",
       "      <th>11</th>\n",
       "      <td>301018129</td>\n",
       "      <td>2018-09-15 15:53:45</td>\n",
       "      <td>2018-09-15 15:53:45</td>\n",
       "      <td>1867</td>\n",
       "      <td>True</td>\n",
       "      <td>2.000000</td>\n",
       "    </tr>\n",
       "    <tr>\n",
       "      <th>12</th>\n",
       "      <td>301019658</td>\n",
       "      <td>2017-05-26 17:37:46</td>\n",
       "      <td>2023-09-06 20:44:00</td>\n",
       "      <td>49</td>\n",
       "      <td>False</td>\n",
       "      <td>762.633333</td>\n",
       "    </tr>\n",
       "    <tr>\n",
       "      <th>13</th>\n",
       "      <td>301020464</td>\n",
       "      <td>2022-06-11 10:39:00</td>\n",
       "      <td>2023-10-26 16:56:00</td>\n",
       "      <td>0</td>\n",
       "      <td>False</td>\n",
       "      <td>1037.764706</td>\n",
       "    </tr>\n",
       "    <tr>\n",
       "      <th>14</th>\n",
       "      <td>301021277</td>\n",
       "      <td>2017-07-24 14:19:13</td>\n",
       "      <td>2023-10-26 14:36:59</td>\n",
       "      <td>0</td>\n",
       "      <td>False</td>\n",
       "      <td>133.552632</td>\n",
       "    </tr>\n",
       "    <tr>\n",
       "      <th>15</th>\n",
       "      <td>301023021</td>\n",
       "      <td>2017-11-07 16:48:45</td>\n",
       "      <td>2023-10-26 16:58:03</td>\n",
       "      <td>0</td>\n",
       "      <td>False</td>\n",
       "      <td>191.583333</td>\n",
       "    </tr>\n",
       "    <tr>\n",
       "      <th>16</th>\n",
       "      <td>301024520</td>\n",
       "      <td>2017-12-18 17:52:53</td>\n",
       "      <td>2023-10-26 14:27:00</td>\n",
       "      <td>0</td>\n",
       "      <td>False</td>\n",
       "      <td>228.563380</td>\n",
       "    </tr>\n",
       "    <tr>\n",
       "      <th>17</th>\n",
       "      <td>301024729</td>\n",
       "      <td>2019-05-17 16:30:00</td>\n",
       "      <td>2023-07-10 08:56:00</td>\n",
       "      <td>108</td>\n",
       "      <td>True</td>\n",
       "      <td>602.784314</td>\n",
       "    </tr>\n",
       "    <tr>\n",
       "      <th>18</th>\n",
       "      <td>301025172</td>\n",
       "      <td>2018-01-11 08:37:44</td>\n",
       "      <td>2023-10-26 16:46:00</td>\n",
       "      <td>0</td>\n",
       "      <td>False</td>\n",
       "      <td>703.357143</td>\n",
       "    </tr>\n",
       "    <tr>\n",
       "      <th>19</th>\n",
       "      <td>301025251</td>\n",
       "      <td>2018-05-02 15:16:56</td>\n",
       "      <td>2018-07-24 11:03:37</td>\n",
       "      <td>1920</td>\n",
       "      <td>True</td>\n",
       "      <td>2.500000</td>\n",
       "    </tr>\n",
       "    <tr>\n",
       "      <th>20</th>\n",
       "      <td>301025608</td>\n",
       "      <td>2018-01-29 16:12:25</td>\n",
       "      <td>2023-10-26 16:50:00</td>\n",
       "      <td>0</td>\n",
       "      <td>False</td>\n",
       "      <td>2237.185714</td>\n",
       "    </tr>\n",
       "    <tr>\n",
       "      <th>21</th>\n",
       "      <td>301026102</td>\n",
       "      <td>2018-02-22 20:16:36</td>\n",
       "      <td>2023-10-26 16:21:00</td>\n",
       "      <td>0</td>\n",
       "      <td>False</td>\n",
       "      <td>421.478261</td>\n",
       "    </tr>\n",
       "    <tr>\n",
       "      <th>22</th>\n",
       "      <td>301026135</td>\n",
       "      <td>2018-08-30 17:47:27</td>\n",
       "      <td>2023-10-26 16:42:00</td>\n",
       "      <td>0</td>\n",
       "      <td>False</td>\n",
       "      <td>241.158730</td>\n",
       "    </tr>\n",
       "    <tr>\n",
       "      <th>23</th>\n",
       "      <td>301026224</td>\n",
       "      <td>2018-02-20 19:35:09</td>\n",
       "      <td>2023-10-26 15:17:59</td>\n",
       "      <td>0</td>\n",
       "      <td>False</td>\n",
       "      <td>175.608696</td>\n",
       "    </tr>\n",
       "    <tr>\n",
       "      <th>24</th>\n",
       "      <td>301026287</td>\n",
       "      <td>2018-03-06 19:02:42</td>\n",
       "      <td>2023-10-26 16:53:00</td>\n",
       "      <td>0</td>\n",
       "      <td>False</td>\n",
       "      <td>393.102941</td>\n",
       "    </tr>\n",
       "    <tr>\n",
       "      <th>25</th>\n",
       "      <td>301026648</td>\n",
       "      <td>2018-03-13 17:58:26</td>\n",
       "      <td>2021-04-30 17:08:00</td>\n",
       "      <td>908</td>\n",
       "      <td>True</td>\n",
       "      <td>406.921053</td>\n",
       "    </tr>\n",
       "    <tr>\n",
       "      <th>26</th>\n",
       "      <td>301026840</td>\n",
       "      <td>2018-03-22 14:46:46</td>\n",
       "      <td>2023-06-08 18:01:00</td>\n",
       "      <td>139</td>\n",
       "      <td>True</td>\n",
       "      <td>1222.796875</td>\n",
       "    </tr>\n",
       "    <tr>\n",
       "      <th>27</th>\n",
       "      <td>301026958</td>\n",
       "      <td>2019-07-24 16:33:59</td>\n",
       "      <td>2021-05-04 21:19:38</td>\n",
       "      <td>904</td>\n",
       "      <td>True</td>\n",
       "      <td>1.666667</td>\n",
       "    </tr>\n",
       "    <tr>\n",
       "      <th>28</th>\n",
       "      <td>301027114</td>\n",
       "      <td>2018-05-05 20:10:08</td>\n",
       "      <td>2023-07-18 17:22:00</td>\n",
       "      <td>99</td>\n",
       "      <td>True</td>\n",
       "      <td>278.269841</td>\n",
       "    </tr>\n",
       "    <tr>\n",
       "      <th>29</th>\n",
       "      <td>301029464</td>\n",
       "      <td>2018-08-17 19:15:49</td>\n",
       "      <td>2022-11-14 11:07:00</td>\n",
       "      <td>346</td>\n",
       "      <td>True</td>\n",
       "      <td>346.230769</td>\n",
       "    </tr>\n",
       "    <tr>\n",
       "      <th>30</th>\n",
       "      <td>301029860</td>\n",
       "      <td>2018-09-14 08:26:00</td>\n",
       "      <td>2019-11-28 14:26:47</td>\n",
       "      <td>1428</td>\n",
       "      <td>True</td>\n",
       "      <td>1411.615385</td>\n",
       "    </tr>\n",
       "    <tr>\n",
       "      <th>31</th>\n",
       "      <td>301030119</td>\n",
       "      <td>2018-10-20 14:48:26</td>\n",
       "      <td>2023-10-26 14:47:00</td>\n",
       "      <td>0</td>\n",
       "      <td>False</td>\n",
       "      <td>292.084746</td>\n",
       "    </tr>\n",
       "    <tr>\n",
       "      <th>32</th>\n",
       "      <td>301030448</td>\n",
       "      <td>2018-10-24 16:11:46</td>\n",
       "      <td>2023-08-24 21:57:00</td>\n",
       "      <td>62</td>\n",
       "      <td>False</td>\n",
       "      <td>344.471698</td>\n",
       "    </tr>\n",
       "    <tr>\n",
       "      <th>33</th>\n",
       "      <td>301031149</td>\n",
       "      <td>2018-11-19 14:12:00</td>\n",
       "      <td>2021-05-19 11:54:00</td>\n",
       "      <td>890</td>\n",
       "      <td>True</td>\n",
       "      <td>935.161290</td>\n",
       "    </tr>\n",
       "    <tr>\n",
       "      <th>34</th>\n",
       "      <td>301031272</td>\n",
       "      <td>2018-11-21 14:13:00</td>\n",
       "      <td>2023-10-26 14:38:00</td>\n",
       "      <td>0</td>\n",
       "      <td>False</td>\n",
       "      <td>563.866667</td>\n",
       "    </tr>\n",
       "    <tr>\n",
       "      <th>35</th>\n",
       "      <td>301031339</td>\n",
       "      <td>2018-11-26 17:46:00</td>\n",
       "      <td>2023-09-01 05:54:00</td>\n",
       "      <td>55</td>\n",
       "      <td>False</td>\n",
       "      <td>523.301887</td>\n",
       "    </tr>\n",
       "    <tr>\n",
       "      <th>36</th>\n",
       "      <td>301032425</td>\n",
       "      <td>2018-12-29 14:51:00</td>\n",
       "      <td>2023-10-24 21:22:00</td>\n",
       "      <td>1</td>\n",
       "      <td>False</td>\n",
       "      <td>889.237288</td>\n",
       "    </tr>\n",
       "    <tr>\n",
       "      <th>37</th>\n",
       "      <td>301032496</td>\n",
       "      <td>2018-12-28 16:19:46</td>\n",
       "      <td>2020-11-25 22:10:00</td>\n",
       "      <td>1064</td>\n",
       "      <td>True</td>\n",
       "      <td>778.041667</td>\n",
       "    </tr>\n",
       "    <tr>\n",
       "      <th>38</th>\n",
       "      <td>301033049</td>\n",
       "      <td>2019-02-01 16:40:00</td>\n",
       "      <td>2023-06-09 22:21:00</td>\n",
       "      <td>138</td>\n",
       "      <td>True</td>\n",
       "      <td>651.207547</td>\n",
       "    </tr>\n",
       "  </tbody>\n",
       "</table>\n",
       "</div>"
      ],
      "text/plain": [
       "           id FirstTransactionDate LastTransactionDate  \\\n",
       "0   301002470  2015-09-18 14:35:04 2023-10-26 10:47:00   \n",
       "1   301002583  2014-09-25 10:08:52 2020-12-23 12:28:28   \n",
       "2   301003354  2022-11-21 18:05:00 2023-10-26 16:59:00   \n",
       "3   301006906  2016-01-29 11:00:43 2022-09-12 18:30:00   \n",
       "4   301009366  2019-06-27 17:31:14 2022-09-19 18:01:00   \n",
       "5   301009412  2016-08-26 11:00:35 2023-10-03 17:56:28   \n",
       "6   301009682  2016-05-19 10:29:01 2023-10-26 16:39:00   \n",
       "7   301010389  2016-06-15 15:12:25 2020-05-10 11:09:14   \n",
       "8   301012873  2018-12-07 12:52:00 2023-10-26 15:06:00   \n",
       "9   301014561  2017-08-10 14:22:03 2023-10-26 16:55:00   \n",
       "10  301015331  2017-02-09 11:21:52 2023-10-26 13:45:18   \n",
       "11  301018129  2018-09-15 15:53:45 2018-09-15 15:53:45   \n",
       "12  301019658  2017-05-26 17:37:46 2023-09-06 20:44:00   \n",
       "13  301020464  2022-06-11 10:39:00 2023-10-26 16:56:00   \n",
       "14  301021277  2017-07-24 14:19:13 2023-10-26 14:36:59   \n",
       "15  301023021  2017-11-07 16:48:45 2023-10-26 16:58:03   \n",
       "16  301024520  2017-12-18 17:52:53 2023-10-26 14:27:00   \n",
       "17  301024729  2019-05-17 16:30:00 2023-07-10 08:56:00   \n",
       "18  301025172  2018-01-11 08:37:44 2023-10-26 16:46:00   \n",
       "19  301025251  2018-05-02 15:16:56 2018-07-24 11:03:37   \n",
       "20  301025608  2018-01-29 16:12:25 2023-10-26 16:50:00   \n",
       "21  301026102  2018-02-22 20:16:36 2023-10-26 16:21:00   \n",
       "22  301026135  2018-08-30 17:47:27 2023-10-26 16:42:00   \n",
       "23  301026224  2018-02-20 19:35:09 2023-10-26 15:17:59   \n",
       "24  301026287  2018-03-06 19:02:42 2023-10-26 16:53:00   \n",
       "25  301026648  2018-03-13 17:58:26 2021-04-30 17:08:00   \n",
       "26  301026840  2018-03-22 14:46:46 2023-06-08 18:01:00   \n",
       "27  301026958  2019-07-24 16:33:59 2021-05-04 21:19:38   \n",
       "28  301027114  2018-05-05 20:10:08 2023-07-18 17:22:00   \n",
       "29  301029464  2018-08-17 19:15:49 2022-11-14 11:07:00   \n",
       "30  301029860  2018-09-14 08:26:00 2019-11-28 14:26:47   \n",
       "31  301030119  2018-10-20 14:48:26 2023-10-26 14:47:00   \n",
       "32  301030448  2018-10-24 16:11:46 2023-08-24 21:57:00   \n",
       "33  301031149  2018-11-19 14:12:00 2021-05-19 11:54:00   \n",
       "34  301031272  2018-11-21 14:13:00 2023-10-26 14:38:00   \n",
       "35  301031339  2018-11-26 17:46:00 2023-09-01 05:54:00   \n",
       "36  301032425  2018-12-29 14:51:00 2023-10-24 21:22:00   \n",
       "37  301032496  2018-12-28 16:19:46 2020-11-25 22:10:00   \n",
       "38  301033049  2019-02-01 16:40:00 2023-06-09 22:21:00   \n",
       "\n",
       "    DaysSinceLastTransaction  Churn  TransactionFrequency  \n",
       "0                          0  False            442.714286  \n",
       "1                       1037   True              9.533333  \n",
       "2                          0  False           2551.333333  \n",
       "3                        408   True            618.350649  \n",
       "4                        401   True            478.225000  \n",
       "5                         22  False              1.333333  \n",
       "6                          0  False            176.011765  \n",
       "7                       1264   True            510.424242  \n",
       "8                          0  False            616.800000  \n",
       "9                          0  False           1061.166667  \n",
       "10                         0  False            314.679012  \n",
       "11                      1867   True              2.000000  \n",
       "12                        49  False            762.633333  \n",
       "13                         0  False           1037.764706  \n",
       "14                         0  False            133.552632  \n",
       "15                         0  False            191.583333  \n",
       "16                         0  False            228.563380  \n",
       "17                       108   True            602.784314  \n",
       "18                         0  False            703.357143  \n",
       "19                      1920   True              2.500000  \n",
       "20                         0  False           2237.185714  \n",
       "21                         0  False            421.478261  \n",
       "22                         0  False            241.158730  \n",
       "23                         0  False            175.608696  \n",
       "24                         0  False            393.102941  \n",
       "25                       908   True            406.921053  \n",
       "26                       139   True           1222.796875  \n",
       "27                       904   True              1.666667  \n",
       "28                        99   True            278.269841  \n",
       "29                       346   True            346.230769  \n",
       "30                      1428   True           1411.615385  \n",
       "31                         0  False            292.084746  \n",
       "32                        62  False            344.471698  \n",
       "33                       890   True            935.161290  \n",
       "34                         0  False            563.866667  \n",
       "35                        55  False            523.301887  \n",
       "36                         1  False            889.237288  \n",
       "37                      1064   True            778.041667  \n",
       "38                       138   True            651.207547  "
      ]
     },
     "execution_count": 3,
     "metadata": {},
     "output_type": "execute_result"
    }
   ],
   "source": [
    "result = analyze_customer_churn(df)\n",
    "\n",
    "result"
   ]
  },
  {
   "cell_type": "markdown",
   "metadata": {},
   "source": [
    "## Sütun Açıklamaları:\n",
    "\n",
    "- `id`:\n",
    "  - **Açıklama**: Bu numerik ID, veri setindeki her müşteriyi eşsiz bir şekilde temsil eder. Her ID sadece bir müşteriyle ilişkilendirilmiştir.\n",
    "\n",
    "- `FirstTransactionDate`:\n",
    "  - **Açıklama**: Müşterinin yaptığı ilk işlemin tarihi ve saati.\n",
    "\n",
    "- `LastTransactionDate`:\n",
    "  - **Açıklama**: Verinin kaydedildiği tarihten önce müşteri tarafından yapılan son işlemin tarihi ve saati.\n",
    "\n",
    "- `DaysSinceLastTransaction`:\n",
    "  - **Açıklama**: Müşterinin son işleminden bu yana geçen gün sayısı.\n",
    "\n",
    "- `Churn`:\n",
    "  - **Açıklama**: Müşterinin belirli bir süre içinde (90 gün) herhangi bir işlem yapmaması durumunda müşteri kaybı yaşanıp yaşanmadığını belirten bir gösterge. (Bu, müşterinin son işlem tarihinden itibaren belirli bir süre içinde (90 gün) herhangi bir işlem yapmaması durumunda `True` olarak işaretlenir. Eğer müşteri bu süre içinde aktifse `False` olarak belirtilir.) \n",
    "\n",
    "- `TransactionFrequency`:\n",
    "  - **Açıklama**: Müşterinin ortalama işlem sıklığı.\n",
    "\n",
    "Her bir sütunun veri seti içindeki kullanımı ve analizi, müşteri davranışlarının daha iyi anlaşılmasına ve iş stratejilerinin geliştirilmesine katkı sağlayacaktır."
   ]
  },
  {
   "cell_type": "markdown",
   "metadata": {},
   "source": [
    "### Calculating Customer Churn"
   ]
  },
  {
   "cell_type": "code",
   "execution_count": 4,
   "metadata": {},
   "outputs": [
    {
     "data": {
      "text/plain": [
       "Churn\n",
       "False    58.974359\n",
       "True     41.025641\n",
       "Name: count, dtype: float64"
      ]
     },
     "execution_count": 4,
     "metadata": {},
     "output_type": "execute_result"
    }
   ],
   "source": [
    "result.Churn.value_counts() * 100 / len(result)"
   ]
  },
  {
   "cell_type": "markdown",
   "metadata": {},
   "source": [
    "### Visualize the churn rate "
   ]
  },
  {
   "cell_type": "code",
   "execution_count": 5,
   "metadata": {},
   "outputs": [],
   "source": [
    "import pandas as pd\n",
    "import plotly.express as px\n",
    "\n",
    "def create_churn_rate_pie_chart(dataframe, churn_column='Churn', title='<b>Churn Rate</b>', show_fig=True):\n",
    "    \"\"\"\n",
    "    Creates a pie chart visualizing churn rates using Plotly.\n",
    "\n",
    "    Parameters\n",
    "    ----------\n",
    "    dataframe : DataFrame\n",
    "        A pandas DataFrame containing the data.\n",
    "    churn_column : str, optional\n",
    "        The column name in dataframe that contains the churn statuses, by default 'Churn'.\n",
    "    title : str, optional\n",
    "        Title of the pie chart, by default '<b>Churn Rate</b>'.\n",
    "    show_fig : bool, optional\n",
    "        If True, the figure will be displayed in the browser, by default True.\n",
    "\n",
    "    Returns\n",
    "    -------\n",
    "    figure : plotly.graph_objs._figure.Figure\n",
    "        A plotly Figure object representing the pie chart.\n",
    "\n",
    "    Examples\n",
    "    --------\n",
    "    >>> create_churn_rate_pie_chart(result_df, churn_column='Churn')\n",
    "    This will create and display a pie chart with churn data taken from `result_df`.\n",
    "\n",
    "    \"\"\"\n",
    "    dataframe['Churn_Label'] = dataframe[churn_column].replace({True: 'Churned', False: 'Retained'})\n",
    "    \n",
    "    churn_counts = dataframe.groupby('Churn_Label').size().reset_index(name='Count')\n",
    "    \n",
    "    churn_counts['Percentage'] = (churn_counts['Count'] / churn_counts['Count'].sum() * 100).apply(lambda x: f\"{x:.2f}%\")\n",
    "\n",
    "    fig = px.pie(\n",
    "        churn_counts,\n",
    "        names='Churn_Label',\n",
    "        values='Count',\n",
    "        title=title,\n",
    "        color_discrete_sequence=px.colors.sequential.Agsunset,\n",
    "        hole=0.3\n",
    "    )\n",
    "\n",
    "    fig.update_layout(\n",
    "        title_font_size=24,\n",
    "        title_font_color=\"navy\",\n",
    "        title_font_family=\"Arial\",\n",
    "        title_x=0.5,\n",
    "        legend_title_text='Status'\n",
    "    )\n",
    "\n",
    "    fig.update_traces(\n",
    "        textinfo='percent+label',\n",
    "        texttemplate='%{label}: %{customdata[0]}',\n",
    "        hovertemplate='%{label}: %{percent:.2f}%',\n",
    "        pull=[0.1 if label == 'Churned' else 0 for label in churn_counts['Churn_Label']],\n",
    "        marker=dict(line=dict(color='#000000', width=2)),\n",
    "        customdata=churn_counts[['Percentage']]\n",
    "    )\n",
    "\n",
    "    if show_fig:\n",
    "        fig.show(renderer='browser')\n",
    "\n",
    "    return fig"
   ]
  },
  {
   "cell_type": "code",
   "execution_count": 6,
   "metadata": {},
   "outputs": [
    {
     "data": {
      "application/vnd.plotly.v1+json": {
       "config": {
        "plotlyServerURL": "https://plot.ly"
       },
       "data": [
        {
         "customdata": [
          [
           "41.03%"
          ],
          [
           "58.97%"
          ]
         ],
         "domain": {
          "x": [
           0,
           1
          ],
          "y": [
           0,
           1
          ]
         },
         "hole": 0.3,
         "hovertemplate": "%{label}: %{percent:.2f}%",
         "labels": [
          "Churned",
          "Retained"
         ],
         "legendgroup": "",
         "marker": {
          "line": {
           "color": "#000000",
           "width": 2
          }
         },
         "name": "",
         "pull": [
          0.1,
          0
         ],
         "showlegend": true,
         "textinfo": "percent+label",
         "texttemplate": "%{label}: %{customdata[0]}",
         "type": "pie",
         "values": [
          16,
          23
         ]
        }
       ],
       "layout": {
        "legend": {
         "title": {
          "text": "Status"
         },
         "tracegroupgap": 0
        },
        "piecolorway": [
         "rgb(75, 41, 145)",
         "rgb(135, 44, 162)",
         "rgb(192, 54, 157)",
         "rgb(234, 79, 136)",
         "rgb(250, 120, 118)",
         "rgb(246, 169, 122)",
         "rgb(237, 217, 163)"
        ],
        "template": {
         "data": {
          "bar": [
           {
            "error_x": {
             "color": "#2a3f5f"
            },
            "error_y": {
             "color": "#2a3f5f"
            },
            "marker": {
             "line": {
              "color": "#E5ECF6",
              "width": 0.5
             },
             "pattern": {
              "fillmode": "overlay",
              "size": 10,
              "solidity": 0.2
             }
            },
            "type": "bar"
           }
          ],
          "barpolar": [
           {
            "marker": {
             "line": {
              "color": "#E5ECF6",
              "width": 0.5
             },
             "pattern": {
              "fillmode": "overlay",
              "size": 10,
              "solidity": 0.2
             }
            },
            "type": "barpolar"
           }
          ],
          "carpet": [
           {
            "aaxis": {
             "endlinecolor": "#2a3f5f",
             "gridcolor": "white",
             "linecolor": "white",
             "minorgridcolor": "white",
             "startlinecolor": "#2a3f5f"
            },
            "baxis": {
             "endlinecolor": "#2a3f5f",
             "gridcolor": "white",
             "linecolor": "white",
             "minorgridcolor": "white",
             "startlinecolor": "#2a3f5f"
            },
            "type": "carpet"
           }
          ],
          "choropleth": [
           {
            "colorbar": {
             "outlinewidth": 0,
             "ticks": ""
            },
            "type": "choropleth"
           }
          ],
          "contour": [
           {
            "colorbar": {
             "outlinewidth": 0,
             "ticks": ""
            },
            "colorscale": [
             [
              0,
              "#0d0887"
             ],
             [
              0.1111111111111111,
              "#46039f"
             ],
             [
              0.2222222222222222,
              "#7201a8"
             ],
             [
              0.3333333333333333,
              "#9c179e"
             ],
             [
              0.4444444444444444,
              "#bd3786"
             ],
             [
              0.5555555555555556,
              "#d8576b"
             ],
             [
              0.6666666666666666,
              "#ed7953"
             ],
             [
              0.7777777777777778,
              "#fb9f3a"
             ],
             [
              0.8888888888888888,
              "#fdca26"
             ],
             [
              1,
              "#f0f921"
             ]
            ],
            "type": "contour"
           }
          ],
          "contourcarpet": [
           {
            "colorbar": {
             "outlinewidth": 0,
             "ticks": ""
            },
            "type": "contourcarpet"
           }
          ],
          "heatmap": [
           {
            "colorbar": {
             "outlinewidth": 0,
             "ticks": ""
            },
            "colorscale": [
             [
              0,
              "#0d0887"
             ],
             [
              0.1111111111111111,
              "#46039f"
             ],
             [
              0.2222222222222222,
              "#7201a8"
             ],
             [
              0.3333333333333333,
              "#9c179e"
             ],
             [
              0.4444444444444444,
              "#bd3786"
             ],
             [
              0.5555555555555556,
              "#d8576b"
             ],
             [
              0.6666666666666666,
              "#ed7953"
             ],
             [
              0.7777777777777778,
              "#fb9f3a"
             ],
             [
              0.8888888888888888,
              "#fdca26"
             ],
             [
              1,
              "#f0f921"
             ]
            ],
            "type": "heatmap"
           }
          ],
          "heatmapgl": [
           {
            "colorbar": {
             "outlinewidth": 0,
             "ticks": ""
            },
            "colorscale": [
             [
              0,
              "#0d0887"
             ],
             [
              0.1111111111111111,
              "#46039f"
             ],
             [
              0.2222222222222222,
              "#7201a8"
             ],
             [
              0.3333333333333333,
              "#9c179e"
             ],
             [
              0.4444444444444444,
              "#bd3786"
             ],
             [
              0.5555555555555556,
              "#d8576b"
             ],
             [
              0.6666666666666666,
              "#ed7953"
             ],
             [
              0.7777777777777778,
              "#fb9f3a"
             ],
             [
              0.8888888888888888,
              "#fdca26"
             ],
             [
              1,
              "#f0f921"
             ]
            ],
            "type": "heatmapgl"
           }
          ],
          "histogram": [
           {
            "marker": {
             "pattern": {
              "fillmode": "overlay",
              "size": 10,
              "solidity": 0.2
             }
            },
            "type": "histogram"
           }
          ],
          "histogram2d": [
           {
            "colorbar": {
             "outlinewidth": 0,
             "ticks": ""
            },
            "colorscale": [
             [
              0,
              "#0d0887"
             ],
             [
              0.1111111111111111,
              "#46039f"
             ],
             [
              0.2222222222222222,
              "#7201a8"
             ],
             [
              0.3333333333333333,
              "#9c179e"
             ],
             [
              0.4444444444444444,
              "#bd3786"
             ],
             [
              0.5555555555555556,
              "#d8576b"
             ],
             [
              0.6666666666666666,
              "#ed7953"
             ],
             [
              0.7777777777777778,
              "#fb9f3a"
             ],
             [
              0.8888888888888888,
              "#fdca26"
             ],
             [
              1,
              "#f0f921"
             ]
            ],
            "type": "histogram2d"
           }
          ],
          "histogram2dcontour": [
           {
            "colorbar": {
             "outlinewidth": 0,
             "ticks": ""
            },
            "colorscale": [
             [
              0,
              "#0d0887"
             ],
             [
              0.1111111111111111,
              "#46039f"
             ],
             [
              0.2222222222222222,
              "#7201a8"
             ],
             [
              0.3333333333333333,
              "#9c179e"
             ],
             [
              0.4444444444444444,
              "#bd3786"
             ],
             [
              0.5555555555555556,
              "#d8576b"
             ],
             [
              0.6666666666666666,
              "#ed7953"
             ],
             [
              0.7777777777777778,
              "#fb9f3a"
             ],
             [
              0.8888888888888888,
              "#fdca26"
             ],
             [
              1,
              "#f0f921"
             ]
            ],
            "type": "histogram2dcontour"
           }
          ],
          "mesh3d": [
           {
            "colorbar": {
             "outlinewidth": 0,
             "ticks": ""
            },
            "type": "mesh3d"
           }
          ],
          "parcoords": [
           {
            "line": {
             "colorbar": {
              "outlinewidth": 0,
              "ticks": ""
             }
            },
            "type": "parcoords"
           }
          ],
          "pie": [
           {
            "automargin": true,
            "type": "pie"
           }
          ],
          "scatter": [
           {
            "fillpattern": {
             "fillmode": "overlay",
             "size": 10,
             "solidity": 0.2
            },
            "type": "scatter"
           }
          ],
          "scatter3d": [
           {
            "line": {
             "colorbar": {
              "outlinewidth": 0,
              "ticks": ""
             }
            },
            "marker": {
             "colorbar": {
              "outlinewidth": 0,
              "ticks": ""
             }
            },
            "type": "scatter3d"
           }
          ],
          "scattercarpet": [
           {
            "marker": {
             "colorbar": {
              "outlinewidth": 0,
              "ticks": ""
             }
            },
            "type": "scattercarpet"
           }
          ],
          "scattergeo": [
           {
            "marker": {
             "colorbar": {
              "outlinewidth": 0,
              "ticks": ""
             }
            },
            "type": "scattergeo"
           }
          ],
          "scattergl": [
           {
            "marker": {
             "colorbar": {
              "outlinewidth": 0,
              "ticks": ""
             }
            },
            "type": "scattergl"
           }
          ],
          "scattermapbox": [
           {
            "marker": {
             "colorbar": {
              "outlinewidth": 0,
              "ticks": ""
             }
            },
            "type": "scattermapbox"
           }
          ],
          "scatterpolar": [
           {
            "marker": {
             "colorbar": {
              "outlinewidth": 0,
              "ticks": ""
             }
            },
            "type": "scatterpolar"
           }
          ],
          "scatterpolargl": [
           {
            "marker": {
             "colorbar": {
              "outlinewidth": 0,
              "ticks": ""
             }
            },
            "type": "scatterpolargl"
           }
          ],
          "scatterternary": [
           {
            "marker": {
             "colorbar": {
              "outlinewidth": 0,
              "ticks": ""
             }
            },
            "type": "scatterternary"
           }
          ],
          "surface": [
           {
            "colorbar": {
             "outlinewidth": 0,
             "ticks": ""
            },
            "colorscale": [
             [
              0,
              "#0d0887"
             ],
             [
              0.1111111111111111,
              "#46039f"
             ],
             [
              0.2222222222222222,
              "#7201a8"
             ],
             [
              0.3333333333333333,
              "#9c179e"
             ],
             [
              0.4444444444444444,
              "#bd3786"
             ],
             [
              0.5555555555555556,
              "#d8576b"
             ],
             [
              0.6666666666666666,
              "#ed7953"
             ],
             [
              0.7777777777777778,
              "#fb9f3a"
             ],
             [
              0.8888888888888888,
              "#fdca26"
             ],
             [
              1,
              "#f0f921"
             ]
            ],
            "type": "surface"
           }
          ],
          "table": [
           {
            "cells": {
             "fill": {
              "color": "#EBF0F8"
             },
             "line": {
              "color": "white"
             }
            },
            "header": {
             "fill": {
              "color": "#C8D4E3"
             },
             "line": {
              "color": "white"
             }
            },
            "type": "table"
           }
          ]
         },
         "layout": {
          "annotationdefaults": {
           "arrowcolor": "#2a3f5f",
           "arrowhead": 0,
           "arrowwidth": 1
          },
          "autotypenumbers": "strict",
          "coloraxis": {
           "colorbar": {
            "outlinewidth": 0,
            "ticks": ""
           }
          },
          "colorscale": {
           "diverging": [
            [
             0,
             "#8e0152"
            ],
            [
             0.1,
             "#c51b7d"
            ],
            [
             0.2,
             "#de77ae"
            ],
            [
             0.3,
             "#f1b6da"
            ],
            [
             0.4,
             "#fde0ef"
            ],
            [
             0.5,
             "#f7f7f7"
            ],
            [
             0.6,
             "#e6f5d0"
            ],
            [
             0.7,
             "#b8e186"
            ],
            [
             0.8,
             "#7fbc41"
            ],
            [
             0.9,
             "#4d9221"
            ],
            [
             1,
             "#276419"
            ]
           ],
           "sequential": [
            [
             0,
             "#0d0887"
            ],
            [
             0.1111111111111111,
             "#46039f"
            ],
            [
             0.2222222222222222,
             "#7201a8"
            ],
            [
             0.3333333333333333,
             "#9c179e"
            ],
            [
             0.4444444444444444,
             "#bd3786"
            ],
            [
             0.5555555555555556,
             "#d8576b"
            ],
            [
             0.6666666666666666,
             "#ed7953"
            ],
            [
             0.7777777777777778,
             "#fb9f3a"
            ],
            [
             0.8888888888888888,
             "#fdca26"
            ],
            [
             1,
             "#f0f921"
            ]
           ],
           "sequentialminus": [
            [
             0,
             "#0d0887"
            ],
            [
             0.1111111111111111,
             "#46039f"
            ],
            [
             0.2222222222222222,
             "#7201a8"
            ],
            [
             0.3333333333333333,
             "#9c179e"
            ],
            [
             0.4444444444444444,
             "#bd3786"
            ],
            [
             0.5555555555555556,
             "#d8576b"
            ],
            [
             0.6666666666666666,
             "#ed7953"
            ],
            [
             0.7777777777777778,
             "#fb9f3a"
            ],
            [
             0.8888888888888888,
             "#fdca26"
            ],
            [
             1,
             "#f0f921"
            ]
           ]
          },
          "colorway": [
           "#636efa",
           "#EF553B",
           "#00cc96",
           "#ab63fa",
           "#FFA15A",
           "#19d3f3",
           "#FF6692",
           "#B6E880",
           "#FF97FF",
           "#FECB52"
          ],
          "font": {
           "color": "#2a3f5f"
          },
          "geo": {
           "bgcolor": "white",
           "lakecolor": "white",
           "landcolor": "#E5ECF6",
           "showlakes": true,
           "showland": true,
           "subunitcolor": "white"
          },
          "hoverlabel": {
           "align": "left"
          },
          "hovermode": "closest",
          "mapbox": {
           "style": "light"
          },
          "paper_bgcolor": "white",
          "plot_bgcolor": "#E5ECF6",
          "polar": {
           "angularaxis": {
            "gridcolor": "white",
            "linecolor": "white",
            "ticks": ""
           },
           "bgcolor": "#E5ECF6",
           "radialaxis": {
            "gridcolor": "white",
            "linecolor": "white",
            "ticks": ""
           }
          },
          "scene": {
           "xaxis": {
            "backgroundcolor": "#E5ECF6",
            "gridcolor": "white",
            "gridwidth": 2,
            "linecolor": "white",
            "showbackground": true,
            "ticks": "",
            "zerolinecolor": "white"
           },
           "yaxis": {
            "backgroundcolor": "#E5ECF6",
            "gridcolor": "white",
            "gridwidth": 2,
            "linecolor": "white",
            "showbackground": true,
            "ticks": "",
            "zerolinecolor": "white"
           },
           "zaxis": {
            "backgroundcolor": "#E5ECF6",
            "gridcolor": "white",
            "gridwidth": 2,
            "linecolor": "white",
            "showbackground": true,
            "ticks": "",
            "zerolinecolor": "white"
           }
          },
          "shapedefaults": {
           "line": {
            "color": "#2a3f5f"
           }
          },
          "ternary": {
           "aaxis": {
            "gridcolor": "white",
            "linecolor": "white",
            "ticks": ""
           },
           "baxis": {
            "gridcolor": "white",
            "linecolor": "white",
            "ticks": ""
           },
           "bgcolor": "#E5ECF6",
           "caxis": {
            "gridcolor": "white",
            "linecolor": "white",
            "ticks": ""
           }
          },
          "title": {
           "x": 0.05
          },
          "xaxis": {
           "automargin": true,
           "gridcolor": "white",
           "linecolor": "white",
           "ticks": "",
           "title": {
            "standoff": 15
           },
           "zerolinecolor": "white",
           "zerolinewidth": 2
          },
          "yaxis": {
           "automargin": true,
           "gridcolor": "white",
           "linecolor": "white",
           "ticks": "",
           "title": {
            "standoff": 15
           },
           "zerolinecolor": "white",
           "zerolinewidth": 2
          }
         }
        },
        "title": {
         "font": {
          "color": "navy",
          "family": "Arial",
          "size": 24
         },
         "text": "<b>Churn Rate</b>",
         "x": 0.5
        }
       }
      }
     },
     "metadata": {},
     "output_type": "display_data"
    }
   ],
   "source": [
    "create_churn_rate_pie_chart(result)"
   ]
  },
  {
   "cell_type": "code",
   "execution_count": null,
   "metadata": {},
   "outputs": [],
   "source": []
  }
 ],
 "metadata": {
  "kernelspec": {
   "display_name": "venv",
   "language": "python",
   "name": "python3"
  },
  "language_info": {
   "codemirror_mode": {
    "name": "ipython",
    "version": 3
   },
   "file_extension": ".py",
   "mimetype": "text/x-python",
   "name": "python",
   "nbconvert_exporter": "python",
   "pygments_lexer": "ipython3",
   "version": "3.9.6"
  }
 },
 "nbformat": 4,
 "nbformat_minor": 2
}
